{
 "cells": [
  {
   "cell_type": "code",
   "execution_count": 1,
   "metadata": {},
   "outputs": [],
   "source": [
    "import sys\n",
    "sys.path.append(\"../src/\")\n",
    "\n",
    "from get_fiis import get_fundos"
   ]
  },
  {
   "cell_type": "code",
   "execution_count": 2,
   "metadata": {},
   "outputs": [],
   "source": [
    "fundos = get_fundos()"
   ]
  },
  {
   "cell_type": "code",
   "execution_count": 3,
   "metadata": {},
   "outputs": [
    {
     "data": {
      "text/plain": [
       "(386, 26)"
      ]
     },
     "execution_count": 3,
     "metadata": {},
     "output_type": "execute_result"
    }
   ],
   "source": [
    "fundos.shape"
   ]
  },
  {
   "cell_type": "code",
   "execution_count": 5,
   "metadata": {},
   "outputs": [
    {
     "data": {
      "text/plain": [
       "Index(['Códigodo fundo', 'Setor', 'Preço Atual', 'Liquidez Diária',\n",
       "       'Dividendo', 'DividendYield', 'DY (3M)Acumulado', 'DY (6M)Acumulado',\n",
       "       'DY (12M)Acumulado', 'DY (3M)Média', 'DY (6M)Média', 'DY (12M)Média',\n",
       "       'DY Ano', 'Variação Preço', 'Rentab.Período', 'Rentab.Acumulada',\n",
       "       'PatrimônioLíq.', 'VPA', 'P/VPA', 'DYPatrimonial',\n",
       "       'VariaçãoPatrimonial', 'Rentab. Patr.no Período',\n",
       "       'Rentab. Patr.Acumulada', 'VacânciaFísica', 'VacânciaFinanceira',\n",
       "       'QuantidadeAtivos'],\n",
       "      dtype='object')"
      ]
     },
     "execution_count": 5,
     "metadata": {},
     "output_type": "execute_result"
    }
   ],
   "source": [
    "fundos.columns"
   ]
  },
  {
   "cell_type": "code",
   "execution_count": null,
   "metadata": {},
   "outputs": [],
   "source": []
  }
 ],
 "metadata": {
  "kernelspec": {
   "display_name": "Python 3.9.12 ('python39')",
   "language": "python",
   "name": "python3"
  },
  "language_info": {
   "codemirror_mode": {
    "name": "ipython",
    "version": 3
   },
   "file_extension": ".py",
   "mimetype": "text/x-python",
   "name": "python",
   "nbconvert_exporter": "python",
   "pygments_lexer": "ipython3",
   "version": "3.9.12"
  },
  "orig_nbformat": 4,
  "vscode": {
   "interpreter": {
    "hash": "8775e30d474ef7b2e3a486e85498f93abe5e243bf08c426c5d6a435fa791a5ee"
   }
  }
 },
 "nbformat": 4,
 "nbformat_minor": 2
}
